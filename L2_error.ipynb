{
 "cells": [
  {
   "cell_type": "code",
   "execution_count": null,
   "id": "1a511146-69a6-4860-befb-38f77f014a48",
   "metadata": {},
   "outputs": [],
   "source": [
    "import numpy as np\n",
    "import sympy as sp\n",
    "from galerkin import *"
   ]
  },
  {
   "cell_type": "code",
   "execution_count": null,
   "id": "fcb18984-4246-4282-8a46-f1de5211a337",
   "metadata": {},
   "outputs": [],
   "source": [
    "#UJ MISSING\n",
    "def L2_error2(uh, ue, V, kind='norm'):\n",
    "    d = V.domain\n",
    "    uej = sp.lambdify(x, ue)\n",
    "    def uv(xj): return (uej(xj)-V.eval(uh, xj))**2\n",
    "    if kind == 'norm':\n",
    "        return np.sqrt(quad(uv, float(d[0]), float(d[1]))[0])\n",
    "    elif kind == 'inf':\n",
    "        return max(abs(uj-uej))"
   ]
  }
 ],
 "metadata": {
  "kernelspec": {
   "display_name": "Python 3 (ipykernel)",
   "language": "python",
   "name": "python3"
  },
  "language_info": {
   "codemirror_mode": {
    "name": "ipython",
    "version": 3
   },
   "file_extension": ".py",
   "mimetype": "text/x-python",
   "name": "python",
   "nbconvert_exporter": "python",
   "pygments_lexer": "ipython3",
   "version": "3.10.12"
  }
 },
 "nbformat": 4,
 "nbformat_minor": 5
}
