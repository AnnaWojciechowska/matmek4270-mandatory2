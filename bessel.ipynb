{
 "cells": [
  {
   "cell_type": "code",
   "execution_count": 1,
   "id": "5487d002-d00e-47e3-a4c4-5b813ba637fa",
   "metadata": {},
   "outputs": [
    {
     "data": {
      "text/html": [
       "<style>.container { width:100% !important; }</style>"
      ],
      "text/plain": [
       "<IPython.core.display.HTML object>"
      ]
     },
     "metadata": {},
     "output_type": "display_data"
    }
   ],
   "source": [
    "from galerkin import *\n",
    "from IPython.display import display, HTML\n",
    "display(HTML(\"<style>.container { width:100% !important; }</style>\"))"
   ]
  },
  {
   "cell_type": "code",
   "execution_count": 2,
   "id": "7f813702-633a-4b95-aa37-c4d7bb3e69ec",
   "metadata": {},
   "outputs": [],
   "source": [
    "ue = sp.besselj(0, x)"
   ]
  },
  {
   "cell_type": "code",
   "execution_count": 3,
   "id": "4e6ca558-15aa-44ce-8252-aca8c30b433b",
   "metadata": {},
   "outputs": [
    {
     "data": {
      "text/latex": [
       "$\\displaystyle J_{0}\\left(x\\right)$"
      ],
      "text/plain": [
       "besselj(0, x)"
      ]
     },
     "execution_count": 3,
     "metadata": {},
     "output_type": "execute_result"
    }
   ],
   "source": [
    "ue"
   ]
  },
  {
   "cell_type": "code",
   "execution_count": 11,
   "id": "bc60acb1-5134-490e-ade7-4e5954fb83e7",
   "metadata": {},
   "outputs": [],
   "source": [
    "def project(ue, V):\n",
    "    u = TrialFunction(V)\n",
    "    v = TestFunction(V)\n",
    "    b = inner(ue, v)\n",
    "    A = inner(u, v)\n",
    "    uh = sparse.linalg.spsolve(A, b)\n",
    "    return uh\n",
    "    '''\n",
    "   \n",
    "    \n",
    "   \n",
    "    uh = sparse.linalg.spsolve(A, b)\n",
    "    return uh\n",
    "  \n",
    "    '''\n",
    "ue = sp.besselj(0, x)\n",
    "space = Chebyshev\n",
    "domain = (0, 10)\n",
    "e = sp.besselj(0, x)\n",
    "V = space(16, domain=domain)\n",
    "u = project(ue,V)\n"
   ]
  },
  {
   "cell_type": "code",
   "execution_count": 12,
   "id": "c0c4cba5-5b04-4579-81d9-0d0fe1d653ea",
   "metadata": {},
   "outputs": [],
   "source": [
    "err = L2_error(u, ue, V)"
   ]
  },
  {
   "cell_type": "code",
   "execution_count": 13,
   "id": "e68f78a1-9f96-4c72-b15c-6a6fa0bf9fbc",
   "metadata": {},
   "outputs": [
    {
     "data": {
      "text/plain": [
       "9.848625125821697e-09"
      ]
     },
     "execution_count": 13,
     "metadata": {},
     "output_type": "execute_result"
    }
   ],
   "source": [
    "err\n",
    "#u = project(ue, V)"
   ]
  },
  {
   "cell_type": "code",
   "execution_count": 14,
   "id": "a3990f4b-741a-4fbb-9bc4-2dbd4fc565ba",
   "metadata": {},
   "outputs": [],
   "source": [
    "assert err < 1e-6"
   ]
  },
  {
   "cell_type": "code",
   "execution_count": 8,
   "id": "58cdd08c-cdd6-4099-9e81-eaee98a7729f",
   "metadata": {},
   "outputs": [],
   "source": [
    "def test_project():\n",
    "    ue = sp.besselj(0, x)\n",
    "    domain = (0, 10)\n",
    "    for space in (Chebyshev, Legendre):\n",
    "        V = space(16, domain=domain)\n",
    "        u = project(ue, V)\n",
    "        err = L2_error(u, ue, V)\n",
    "        print(\n",
    "            f'test_project: L2 error = {err:2.4e}, N = {V.N}, {V.__class__.__name__}')\n",
    "        assert err < 1e-6"
   ]
  }
 ],
 "metadata": {
  "kernelspec": {
   "display_name": "Python 3 (ipykernel)",
   "language": "python",
   "name": "python3"
  },
  "language_info": {
   "codemirror_mode": {
    "name": "ipython",
    "version": 3
   },
   "file_extension": ".py",
   "mimetype": "text/x-python",
   "name": "python",
   "nbconvert_exporter": "python",
   "pygments_lexer": "ipython3",
   "version": "3.10.12"
  }
 },
 "nbformat": 4,
 "nbformat_minor": 5
}
