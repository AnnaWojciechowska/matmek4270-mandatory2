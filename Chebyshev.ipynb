{
 "cells": [
  {
   "cell_type": "code",
   "execution_count": 1,
   "id": "616446f7-3e3a-4a90-b5da-ea6ff6486836",
   "metadata": {},
   "outputs": [],
   "source": [
    "from numpy.polynomial import Chebyshev\n",
    "import numpy as np\n",
    "import sympy as sp\n",
    "x = sp.Symbol('x')\n"
   ]
  },
  {
   "cell_type": "code",
   "execution_count": 2,
   "id": "63e048b5-060f-4f1a-a2fe-61d0b8013b81",
   "metadata": {},
   "outputs": [],
   "source": [
    "import numpy as np\n",
    "import sympy as sp\n",
    "\n",
    "x = sp.Symbol('x', real=True)\n",
    "k = sp.Symbol('k', integer=True, positive=True)\n",
    "\n",
    "Tk = lambda k, x: sp.cos(k * sp.acos(x))\n",
    "cj = lambda j: 2 if j == 0 else 1\n",
    "\n",
    "def innerw(u, v, domain, ref_domain=(-1, 1)):\n",
    "    A, B = ref_domain\n",
    "    a, b = domain\n",
    "    # map u(x(X)) to use reference coordinate X.\n",
    "    # Note that x is here ref coord.\n",
    "    us = u.subs(x, a + (b-a)*(x-A)/(B-A))\n",
    "    # Change variables x=cos(theta)\n",
    "    us = sp.simplify(us.subs(x, sp.cos(x)), inverse=True)\n",
    "    vs = sp.simplify(v.subs(x, sp.cos(x)), inverse=True)\n",
    "    return sp.integrate(us*vs, (x, 0, sp.pi))\n"
   ]
  },
  {
   "cell_type": "code",
   "execution_count": 3,
   "id": "25bfd8da-868e-47f9-a4cd-b6c17f28cef5",
   "metadata": {},
   "outputs": [],
   "source": [
    "from scipy.integrate import quad\n",
    "def innerwn(u, v, domain, ref_domain=(-1, 1)):\n",
    "    A, B = ref_domain\n",
    "    a, b = domain\n",
    "    us = u.subs(x, a + (b-a)*(x-A)/(B-A))\n",
    "    us = sp.simplify(us.subs(x, sp.cos(x)), inverse=True)\n",
    "    vs = sp.simplify(v.subs(x, sp.cos(x)), inverse=True)\n",
    "    return quad(sp.lambdify(x, us*vs), 0, np.pi)[0]\n",
    "\n",
    "u = sp.exp(sp.cos(x))\n",
    "#u = 1 / (1+16*x**2)\n",
    "#uhat = lambda u, j: 2 / (cj(j) * sp.pi) * innerw(u, Tk(j, x), (-1, 1)) # slow\n",
    "uhatn = lambda u, j: 2 / (cj(j) * np.pi) * innerwn(u, Tk(j, x), (-1, 1))"
   ]
  },
  {
   "cell_type": "code",
   "execution_count": 4,
   "id": "202c9bf0-9a5e-4cb4-9f13-c36b6e64589b",
   "metadata": {},
   "outputs": [],
   "source": [
    "uc = []\n",
    "N = 25\n",
    "for n in range(N):\n",
    "    uc.append(uhatn(u, n))"
   ]
  },
  {
   "cell_type": "code",
   "execution_count": null,
   "id": "320b862f-7aaa-444a-8123-ba9b94b1b162",
   "metadata": {},
   "outputs": [],
   "source": [
    "def L2_error(uh, ue, space):\n",
    "    xj = np.linspace(-1, 1, 1000)\n",
    "    uej = sp.lambdify(x, ue)(xj)\n",
    "    err = []\n",
    "    for n in range(0, len(uh), 2):\n",
    "        uj = space(uh[:(n+1)])(xj).astype(float)\n",
    "        err.append(np.sqrt(np.trapz((uj-uej)**2, dx=xj[1]-xj[0])))\n",
    "    return err\n",
    "\n",
    "ue = sp.besselj(0, x)\n",
    "errc = L2_error(uc, u, Chebyshev)\n",
    "errc"
   ]
  },
  {
   "cell_type": "code",
   "execution_count": null,
   "id": "f03e4a6e-aded-4f8e-95c8-1f6dd46d0d5c",
   "metadata": {},
   "outputs": [],
   "source": [
    "def L2_error_glerkin(uh, ue, V, kind='norm'):\n",
    "    d = V.domain\n",
    "    uej = sp.lambdify(x, ue)\n",
    "    #def uv(xj): return (uej(xj)-V.eval(uh, xj))**2\n",
    "        \n",
    "    if kind == 'norm':\n",
    "        return np.sqrt(quad(uv, float(d[0]), float(d[1]))[0])\n",
    "    #elif kind == 'inf':\n",
    "     #   return max(abs(uj-uej))"
   ]
  },
  {
   "cell_type": "code",
   "execution_count": 9,
   "id": "f028041b-150e-448b-bd04-957ac7127373",
   "metadata": {},
   "outputs": [
    {
     "data": {
      "text/plain": [
       "<function _lambdifygenerated(x)>"
      ]
     },
     "execution_count": 9,
     "metadata": {},
     "output_type": "execute_result"
    }
   ],
   "source": [
    "ue = sp.besselj(0, x)\n",
    "uej = sp.lambdify(x, ue)\n",
    "uej"
   ]
  },
  {
   "cell_type": "code",
   "execution_count": null,
   "id": "982d4a90-7ba3-411f-88e7-ad7595e3e74e",
   "metadata": {},
   "outputs": [],
   "source": [
    "def uv(xj): \n",
    "    return (uej(xj)-V.eval(uh, xj))**2"
   ]
  },
  {
   "cell_type": "code",
   "execution_count": 8,
   "id": "d974ee0d-adb9-4db7-bb64-af0481fc34db",
   "metadata": {},
   "outputs": [
    {
     "data": {
      "text/plain": [
       "[0.4974667007690379,\n",
       " 0.03988279805115948,\n",
       " 0.00245173162420416,\n",
       " 0.00012792744536135574,\n",
       " 5.8957014692144055e-06,\n",
       " 2.4627595493254023e-07,\n",
       " 9.484340797012685e-09,\n",
       " 3.408942020425187e-10,\n",
       " 1.154143058382014e-11,\n",
       " 3.7091565443472394e-13,\n",
       " 1.1604118055634894e-14,\n",
       " 2.7118106349134324e-15,\n",
       " 4.03066014213448e-15]"
      ]
     },
     "execution_count": 8,
     "metadata": {},
     "output_type": "execute_result"
    }
   ],
   "source": [
    "#ue - exact\n",
    "#uh aprozimated\n",
    "def L2_error(uh, ue, space):\n",
    "    xj = np.linspace(-1, 1, 1000)\n",
    "    uej = sp.lambdify(x, ue)(xj)\n",
    "    err = []\n",
    "    for n in range(0, len(uh), 2):\n",
    "        uj = space(uh[:(n+1)])(xj).astype(float)\n",
    "        err.append(np.sqrt(np.trapz((uj-uej)**2, dx=xj[1]-xj[0])))\n",
    "    return err\n",
    "\n",
    "ue = sp.besselj(0, x)\n",
    "\n",
    "errc = L2_error(uc, u, Chebyshev)\n",
    "errc"
   ]
  },
  {
   "cell_type": "code",
   "execution_count": null,
   "id": "498d5704-1f5c-4d03-bbee-722188bb2f78",
   "metadata": {},
   "outputs": [],
   "source": [
    "err < 1e-6"
   ]
  },
  {
   "cell_type": "markdown",
   "id": "b7fcdbb7-1439-4c9f-a460-f77801c983af",
   "metadata": {},
   "source": [
    "from numpy.polynomial import Chebyshev as Cheb\n",
    "\n",
    "class Chebyshev2(FunctionSpace):\n",
    "    def __init__(self, N, domain=(-1, 1)):\n",
    "        FunctionSpace.__init__(self, N, domain=domain)\n",
    "        self._cheb_basis = [Cheb.basis(i, domain=domain) for i in range(N + 1)]\n",
    "\n",
    "    def basis_function(self, j, sympy=False):\n",
    "        if sympy:\n",
    "            return sp.Chebyshev.basis(j, domain=self._domain)\n",
    "        return self._cheb_basis[j]\n",
    "\n",
    "    def mass_matrix(self):\n",
    "        M = np.zeros((self.N + 1, self.N + 1))\n",
    "\n",
    "        for i in range(self.N + 1):\n",
    "            for j in range(self.N + 1):\n",
    "                # Calculate the inner product using the weight function\n",
    "                M[i, j] = np.sum(self._cheb_basis[i] * self._cheb_basis[j])\n",
    "\n",
    "        return M\n",
    "\n",
    "    def eval(self, uh, xj):\n",
    "        xj = np.atleast_1d(xj)\n",
    "        Xj = map_reference_domain(xj, self.domain, self._reference_domain)\n",
    "        return np.polynomial.chebyshev.chebval(Xj, uh)"
   ]
  },
  {
   "cell_type": "markdown",
   "id": "cc593f25-4ef6-4d16-b3b9-94cbf7e1f2ff",
   "metadata": {},
   "source": [
    "def L2_error(uh, ue, V, kind='norm'):\n",
    "    d = V.domain\n",
    "    uej = sp.lambdify(x, ue)\n",
    "    def uv(xj): return (uej(xj)-V.eval(uh, xj))**2\n",
    "    if kind == 'norm':\n",
    "        return np.sqrt(quad(uv, float(d[0]), float(d[1]))[0])\n",
    "    elif kind == 'inf':\n",
    "        return max(abs(uj-uej))"
   ]
  },
  {
   "cell_type": "markdown",
   "id": "c59004a3-f634-4004-b845-96b76c2e99ce",
   "metadata": {},
   "source": [
    "ue = sp.besselj(0, x)\n",
    "domain = (0, 10)\n",
    "cheb = Chebyshev2(16, domain)\n",
    "cheb"
   ]
  }
 ],
 "metadata": {
  "kernelspec": {
   "display_name": "Python 3 (ipykernel)",
   "language": "python",
   "name": "python3"
  },
  "language_info": {
   "codemirror_mode": {
    "name": "ipython",
    "version": 3
   },
   "file_extension": ".py",
   "mimetype": "text/x-python",
   "name": "python",
   "nbconvert_exporter": "python",
   "pygments_lexer": "ipython3",
   "version": "3.10.12"
  }
 },
 "nbformat": 4,
 "nbformat_minor": 5
}
